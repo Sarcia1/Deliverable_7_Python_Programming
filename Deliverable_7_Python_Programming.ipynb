{
  "nbformat": 4,
  "nbformat_minor": 0,
  "metadata": {
    "colab": {
      "provenance": [],
      "authorship_tag": "ABX9TyMd158ulgZD3ULuExo02gTs",
      "include_colab_link": true
    },
    "kernelspec": {
      "name": "python3",
      "display_name": "Python 3"
    },
    "language_info": {
      "name": "python"
    }
  },
  "cells": [
    {
      "cell_type": "markdown",
      "metadata": {
        "id": "view-in-github",
        "colab_type": "text"
      },
      "source": [
        "<a href=\"https://colab.research.google.com/github/Sarcia1/Deliverable_7_Python_Programming/blob/main/Deliverable_7_Python_Programming.ipynb\" target=\"_parent\"><img src=\"https://colab.research.google.com/assets/colab-badge.svg\" alt=\"Open In Colab\"/></a>"
      ]
    },
    {
      "cell_type": "markdown",
      "source": [
        "Method 1: Randomly populates an array with integer numbers between 10 and 15. Array length is a parameter for the method.\n",
        "\n",
        "Method 2: Return the sum of all elements of an array (array is parameter)\n",
        "\n",
        "Instructions:\n",
        "1. Ask user for integer input between 5 and 15\n",
        "2. Use conditional statement to check entry\n",
        "3. Use method 1 to randomly populate array with length equal to entry\n",
        "4. Display in console all elements in array\n",
        "5. Use method 2 to sum all the elements in the array from step 3\n",
        "6. Display in console value from step 5\n"
      ],
      "metadata": {
        "id": "S4XPSZtlV0K2"
      }
    },
    {
      "cell_type": "code",
      "execution_count": 34,
      "metadata": {
        "colab": {
          "base_uri": "https://localhost:8080/"
        },
        "id": "OIZuKMOcTzgx",
        "outputId": "622e7c4d-877a-4f7b-f187-ad60bbccd538"
      },
      "outputs": [
        {
          "output_type": "stream",
          "name": "stdout",
          "text": [
            "Enter an integer between 5 and 15: 15\n",
            "The elements of the arrays are: [12, 14, 12, 14, 11, 15, 10, 14, 10, 15, 15, 11, 13, 11, 10]\n",
            "The sum is: 187\n"
          ]
        }
      ],
      "source": [
        "input_int = int(input(\"Enter an integer between 5 and 15: \"))\n",
        "import random\n",
        "arr = []\n",
        "def method1():\n",
        "  for i in range(input_int):\n",
        "    arr.append(random.randint(10,15))\n",
        "  return(arr)\n",
        "def method2():\n",
        "  sum = 0\n",
        "  for i in arr:\n",
        "    sum = sum + i\n",
        "  return(sum)\n",
        "if 5 <= input_int <= 15:\n",
        "  print(\"The elements of the arrays are:\", method1())\n",
        "  print(\"The sum is:\", method2())\n",
        "else:\n",
        "  print(\"User input is not between 5 and 15. Please try again!\")"
      ]
    }
  ]
}